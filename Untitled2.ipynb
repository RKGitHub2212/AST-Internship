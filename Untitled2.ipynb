{
 "cells": [
  {
   "cell_type": "code",
   "execution_count": 1,
   "id": "2e138029",
   "metadata": {},
   "outputs": [],
   "source": [
    "import pandas as pd\n",
    "import numpy as np"
   ]
  },
  {
   "cell_type": "code",
   "execution_count": 2,
   "id": "8ae028f5",
   "metadata": {},
   "outputs": [],
   "source": [
    "df1 = pd.DataFrame(np.random.rand(10,5))"
   ]
  },
  {
   "cell_type": "code",
   "execution_count": 3,
   "id": "6dd71306",
   "metadata": {},
   "outputs": [],
   "source": [
    "df2 = pd.DataFrame(np.random.rand(10,5))"
   ]
  },
  {
   "cell_type": "code",
   "execution_count": 12,
   "id": "82438851",
   "metadata": {},
   "outputs": [
    {
     "data": {
      "text/html": [
       "<div>\n",
       "<style scoped>\n",
       "    .dataframe tbody tr th:only-of-type {\n",
       "        vertical-align: middle;\n",
       "    }\n",
       "\n",
       "    .dataframe tbody tr th {\n",
       "        vertical-align: top;\n",
       "    }\n",
       "\n",
       "    .dataframe thead th {\n",
       "        text-align: right;\n",
       "    }\n",
       "</style>\n",
       "<table border=\"1\" class=\"dataframe\">\n",
       "  <thead>\n",
       "    <tr style=\"text-align: right;\">\n",
       "      <th></th>\n",
       "      <th>0</th>\n",
       "      <th>1</th>\n",
       "      <th>2</th>\n",
       "      <th>3</th>\n",
       "      <th>4</th>\n",
       "    </tr>\n",
       "  </thead>\n",
       "  <tbody>\n",
       "    <tr>\n",
       "      <th>0</th>\n",
       "      <td>0.884359</td>\n",
       "      <td>0.852755</td>\n",
       "      <td>0.313341</td>\n",
       "      <td>0.888561</td>\n",
       "      <td>0.031222</td>\n",
       "    </tr>\n",
       "    <tr>\n",
       "      <th>1</th>\n",
       "      <td>0.614649</td>\n",
       "      <td>0.174324</td>\n",
       "      <td>0.061008</td>\n",
       "      <td>0.413200</td>\n",
       "      <td>0.691273</td>\n",
       "    </tr>\n",
       "  </tbody>\n",
       "</table>\n",
       "</div>"
      ],
      "text/plain": [
       "          0         1         2         3         4\n",
       "0  0.884359  0.852755  0.313341  0.888561  0.031222\n",
       "1  0.614649  0.174324  0.061008  0.413200  0.691273"
      ]
     },
     "execution_count": 12,
     "metadata": {},
     "output_type": "execute_result"
    }
   ],
   "source": [
    "df1.head(2)"
   ]
  },
  {
   "cell_type": "code",
   "execution_count": 14,
   "id": "a7014d40",
   "metadata": {},
   "outputs": [
    {
     "data": {
      "text/html": [
       "<div>\n",
       "<style scoped>\n",
       "    .dataframe tbody tr th:only-of-type {\n",
       "        vertical-align: middle;\n",
       "    }\n",
       "\n",
       "    .dataframe tbody tr th {\n",
       "        vertical-align: top;\n",
       "    }\n",
       "\n",
       "    .dataframe thead th {\n",
       "        text-align: right;\n",
       "    }\n",
       "</style>\n",
       "<table border=\"1\" class=\"dataframe\">\n",
       "  <thead>\n",
       "    <tr style=\"text-align: right;\">\n",
       "      <th></th>\n",
       "      <th>0</th>\n",
       "      <th>1</th>\n",
       "      <th>2</th>\n",
       "      <th>3</th>\n",
       "      <th>4</th>\n",
       "    </tr>\n",
       "  </thead>\n",
       "  <tbody>\n",
       "    <tr>\n",
       "      <th>0</th>\n",
       "      <td>0.471707</td>\n",
       "      <td>0.112431</td>\n",
       "      <td>0.051369</td>\n",
       "      <td>0.393773</td>\n",
       "      <td>0.926944</td>\n",
       "    </tr>\n",
       "    <tr>\n",
       "      <th>1</th>\n",
       "      <td>0.369811</td>\n",
       "      <td>0.645357</td>\n",
       "      <td>0.280625</td>\n",
       "      <td>0.560151</td>\n",
       "      <td>0.883031</td>\n",
       "    </tr>\n",
       "  </tbody>\n",
       "</table>\n",
       "</div>"
      ],
      "text/plain": [
       "          0         1         2         3         4\n",
       "0  0.471707  0.112431  0.051369  0.393773  0.926944\n",
       "1  0.369811  0.645357  0.280625  0.560151  0.883031"
      ]
     },
     "execution_count": 14,
     "metadata": {},
     "output_type": "execute_result"
    }
   ],
   "source": [
    "df2.head(2)"
   ]
  },
  {
   "cell_type": "code",
   "execution_count": 15,
   "id": "cd3d25c1",
   "metadata": {},
   "outputs": [
    {
     "data": {
      "text/html": [
       "<div>\n",
       "<style scoped>\n",
       "    .dataframe tbody tr th:only-of-type {\n",
       "        vertical-align: middle;\n",
       "    }\n",
       "\n",
       "    .dataframe tbody tr th {\n",
       "        vertical-align: top;\n",
       "    }\n",
       "\n",
       "    .dataframe thead th {\n",
       "        text-align: right;\n",
       "    }\n",
       "</style>\n",
       "<table border=\"1\" class=\"dataframe\">\n",
       "  <thead>\n",
       "    <tr style=\"text-align: right;\">\n",
       "      <th></th>\n",
       "      <th>0</th>\n",
       "      <th>1</th>\n",
       "      <th>2</th>\n",
       "      <th>3</th>\n",
       "      <th>4</th>\n",
       "      <th>0</th>\n",
       "      <th>1</th>\n",
       "      <th>2</th>\n",
       "      <th>3</th>\n",
       "      <th>4</th>\n",
       "    </tr>\n",
       "  </thead>\n",
       "  <tbody>\n",
       "    <tr>\n",
       "      <th>0</th>\n",
       "      <td>0.884359</td>\n",
       "      <td>0.852755</td>\n",
       "      <td>0.313341</td>\n",
       "      <td>0.888561</td>\n",
       "      <td>0.031222</td>\n",
       "      <td>0.471707</td>\n",
       "      <td>0.112431</td>\n",
       "      <td>0.051369</td>\n",
       "      <td>0.393773</td>\n",
       "      <td>0.926944</td>\n",
       "    </tr>\n",
       "    <tr>\n",
       "      <th>1</th>\n",
       "      <td>0.614649</td>\n",
       "      <td>0.174324</td>\n",
       "      <td>0.061008</td>\n",
       "      <td>0.413200</td>\n",
       "      <td>0.691273</td>\n",
       "      <td>0.369811</td>\n",
       "      <td>0.645357</td>\n",
       "      <td>0.280625</td>\n",
       "      <td>0.560151</td>\n",
       "      <td>0.883031</td>\n",
       "    </tr>\n",
       "  </tbody>\n",
       "</table>\n",
       "</div>"
      ],
      "text/plain": [
       "          0         1         2         3         4         0         1  \\\n",
       "0  0.884359  0.852755  0.313341  0.888561  0.031222  0.471707  0.112431   \n",
       "1  0.614649  0.174324  0.061008  0.413200  0.691273  0.369811  0.645357   \n",
       "\n",
       "          2         3         4  \n",
       "0  0.051369  0.393773  0.926944  \n",
       "1  0.280625  0.560151  0.883031  "
      ]
     },
     "execution_count": 15,
     "metadata": {},
     "output_type": "execute_result"
    }
   ],
   "source": [
    "pd.concat([df1,df2], axis=1).head(2)"
   ]
  },
  {
   "cell_type": "code",
   "execution_count": 47,
   "id": "69271e80",
   "metadata": {},
   "outputs": [],
   "source": [
    "df3 = pd.DataFrame(np.random.rand(5,5))"
   ]
  },
  {
   "cell_type": "code",
   "execution_count": 48,
   "id": "671c2d9c",
   "metadata": {},
   "outputs": [],
   "source": [
    "df4 = pd.DataFrame(np.random.rand(4,5))"
   ]
  },
  {
   "cell_type": "code",
   "execution_count": 49,
   "id": "9e615c5e",
   "metadata": {},
   "outputs": [
    {
     "name": "stderr",
     "output_type": "stream",
     "text": [
      "C:\\Users\\Raushan\\AppData\\Local\\Temp\\ipykernel_6196\\3067018975.py:1: FutureWarning: The frame.append method is deprecated and will be removed from pandas in a future version. Use pandas.concat instead.\n",
      "  df3.append(df4)\n"
     ]
    },
    {
     "data": {
      "text/html": [
       "<div>\n",
       "<style scoped>\n",
       "    .dataframe tbody tr th:only-of-type {\n",
       "        vertical-align: middle;\n",
       "    }\n",
       "\n",
       "    .dataframe tbody tr th {\n",
       "        vertical-align: top;\n",
       "    }\n",
       "\n",
       "    .dataframe thead th {\n",
       "        text-align: right;\n",
       "    }\n",
       "</style>\n",
       "<table border=\"1\" class=\"dataframe\">\n",
       "  <thead>\n",
       "    <tr style=\"text-align: right;\">\n",
       "      <th></th>\n",
       "      <th>0</th>\n",
       "      <th>1</th>\n",
       "      <th>2</th>\n",
       "      <th>3</th>\n",
       "      <th>4</th>\n",
       "    </tr>\n",
       "  </thead>\n",
       "  <tbody>\n",
       "    <tr>\n",
       "      <th>0</th>\n",
       "      <td>0.015074</td>\n",
       "      <td>0.386642</td>\n",
       "      <td>0.597343</td>\n",
       "      <td>0.323599</td>\n",
       "      <td>0.043450</td>\n",
       "    </tr>\n",
       "    <tr>\n",
       "      <th>1</th>\n",
       "      <td>0.651223</td>\n",
       "      <td>0.866505</td>\n",
       "      <td>0.896233</td>\n",
       "      <td>0.387499</td>\n",
       "      <td>0.054524</td>\n",
       "    </tr>\n",
       "    <tr>\n",
       "      <th>2</th>\n",
       "      <td>0.696224</td>\n",
       "      <td>0.055702</td>\n",
       "      <td>0.063463</td>\n",
       "      <td>0.261069</td>\n",
       "      <td>0.392000</td>\n",
       "    </tr>\n",
       "    <tr>\n",
       "      <th>3</th>\n",
       "      <td>0.337813</td>\n",
       "      <td>0.827686</td>\n",
       "      <td>0.109622</td>\n",
       "      <td>0.856319</td>\n",
       "      <td>0.473808</td>\n",
       "    </tr>\n",
       "    <tr>\n",
       "      <th>4</th>\n",
       "      <td>0.154177</td>\n",
       "      <td>0.859560</td>\n",
       "      <td>0.606435</td>\n",
       "      <td>0.719609</td>\n",
       "      <td>0.918833</td>\n",
       "    </tr>\n",
       "    <tr>\n",
       "      <th>0</th>\n",
       "      <td>0.199261</td>\n",
       "      <td>0.143380</td>\n",
       "      <td>0.499146</td>\n",
       "      <td>0.106082</td>\n",
       "      <td>0.954866</td>\n",
       "    </tr>\n",
       "    <tr>\n",
       "      <th>1</th>\n",
       "      <td>0.596488</td>\n",
       "      <td>0.050941</td>\n",
       "      <td>0.191337</td>\n",
       "      <td>0.499452</td>\n",
       "      <td>0.988089</td>\n",
       "    </tr>\n",
       "    <tr>\n",
       "      <th>2</th>\n",
       "      <td>0.650811</td>\n",
       "      <td>0.369676</td>\n",
       "      <td>0.565565</td>\n",
       "      <td>0.117676</td>\n",
       "      <td>0.809607</td>\n",
       "    </tr>\n",
       "    <tr>\n",
       "      <th>3</th>\n",
       "      <td>0.747136</td>\n",
       "      <td>0.271994</td>\n",
       "      <td>0.614210</td>\n",
       "      <td>0.622971</td>\n",
       "      <td>0.239428</td>\n",
       "    </tr>\n",
       "  </tbody>\n",
       "</table>\n",
       "</div>"
      ],
      "text/plain": [
       "          0         1         2         3         4\n",
       "0  0.015074  0.386642  0.597343  0.323599  0.043450\n",
       "1  0.651223  0.866505  0.896233  0.387499  0.054524\n",
       "2  0.696224  0.055702  0.063463  0.261069  0.392000\n",
       "3  0.337813  0.827686  0.109622  0.856319  0.473808\n",
       "4  0.154177  0.859560  0.606435  0.719609  0.918833\n",
       "0  0.199261  0.143380  0.499146  0.106082  0.954866\n",
       "1  0.596488  0.050941  0.191337  0.499452  0.988089\n",
       "2  0.650811  0.369676  0.565565  0.117676  0.809607\n",
       "3  0.747136  0.271994  0.614210  0.622971  0.239428"
      ]
     },
     "execution_count": 49,
     "metadata": {},
     "output_type": "execute_result"
    }
   ],
   "source": [
    "df3.append(df4)"
   ]
  },
  {
   "cell_type": "code",
   "execution_count": null,
   "id": "b2d7a716",
   "metadata": {},
   "outputs": [],
   "source": []
  }
 ],
 "metadata": {
  "kernelspec": {
   "display_name": "Python 3 (ipykernel)",
   "language": "python",
   "name": "python3"
  },
  "language_info": {
   "codemirror_mode": {
    "name": "ipython",
    "version": 3
   },
   "file_extension": ".py",
   "mimetype": "text/x-python",
   "name": "python",
   "nbconvert_exporter": "python",
   "pygments_lexer": "ipython3",
   "version": "3.9.13"
  }
 },
 "nbformat": 4,
 "nbformat_minor": 5
}

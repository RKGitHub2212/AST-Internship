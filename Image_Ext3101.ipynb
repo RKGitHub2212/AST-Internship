{
 "cells": [
  {
   "cell_type": "code",
   "execution_count": 3,
   "id": "8f2889e4",
   "metadata": {},
   "outputs": [],
   "source": [
    "import pandas as pd\n",
    "import numpy as np\n",
    "import urllib.request\n",
    "from PIL import Image\n",
    "import os"
   ]
  },
  {
   "cell_type": "code",
   "execution_count": 4,
   "id": "58d6f1a6",
   "metadata": {},
   "outputs": [],
   "source": [
    "df = pd.read_excel(\"E:\\Project\\Data for Image Extraction\\MaterialInstallation.xlsx\")"
   ]
  },
  {
   "cell_type": "code",
   "execution_count": 11,
   "id": "3227e2e7",
   "metadata": {},
   "outputs": [
    {
     "name": "stdout",
     "output_type": "stream",
     "text": [
      "['AMF', 'CP', 'DG', 'DGB', 'HPSC', 'INV', 'MTIB', 'ONM', 'PCU', 'RM', 'SLR', 'SMPS']\n"
     ]
    }
   ],
   "source": [
    "itemlist=list(df['ItemName'].unique())\n",
    "itemlist.pop(1)\n",
    "print(itemlist)"
   ]
  },
  {
   "cell_type": "code",
   "execution_count": 13,
   "id": "cab55250",
   "metadata": {},
   "outputs": [],
   "source": [
    "for i in itemlist:\n",
    "     os.mkdir(r'E:/Project/MaterialInstallationImages/{}'.format(i))\n",
    "     images= df[df['ItemName']==i]['Images'].to_list()\n",
    "#      print(images)\n",
    "     for image in images:\n",
    "        img_name = image.split('/')[-1]\n",
    "        urllib.request.urlretrieve(image,\"E:/Project/MaterialInstallationImages/{}/{}\".format(i,img_name))"
   ]
  },
  {
   "cell_type": "code",
   "execution_count": 46,
   "id": "1e7d10ff",
   "metadata": {},
   "outputs": [
    {
     "data": {
      "text/html": [
       "<div>\n",
       "<style scoped>\n",
       "    .dataframe tbody tr th:only-of-type {\n",
       "        vertical-align: middle;\n",
       "    }\n",
       "\n",
       "    .dataframe tbody tr th {\n",
       "        vertical-align: top;\n",
       "    }\n",
       "\n",
       "    .dataframe thead th {\n",
       "        text-align: right;\n",
       "    }\n",
       "</style>\n",
       "<table border=\"1\" class=\"dataframe\">\n",
       "  <thead>\n",
       "    <tr style=\"text-align: right;\">\n",
       "      <th></th>\n",
       "      <th>ItemName</th>\n",
       "      <th>Images</th>\n",
       "    </tr>\n",
       "  </thead>\n",
       "  <tbody>\n",
       "    <tr>\n",
       "      <th>0</th>\n",
       "      <td>AMF</td>\n",
       "      <td>https://api.astnoc.com/TelecomImage/MaterialIn...</td>\n",
       "    </tr>\n",
       "    <tr>\n",
       "      <th>1</th>\n",
       "      <td>AMF</td>\n",
       "      <td>https://api.astnoc.com/TelecomImage/MaterialIn...</td>\n",
       "    </tr>\n",
       "    <tr>\n",
       "      <th>2</th>\n",
       "      <td>AMF</td>\n",
       "      <td>https://api.astnoc.com/TelecomImage/MaterialIn...</td>\n",
       "    </tr>\n",
       "    <tr>\n",
       "      <th>3</th>\n",
       "      <td>AMF</td>\n",
       "      <td>https://api.astnoc.com/TelecomImage/MaterialIn...</td>\n",
       "    </tr>\n",
       "    <tr>\n",
       "      <th>4</th>\n",
       "      <td>AMF</td>\n",
       "      <td>https://api.astnoc.com/TelecomImage/MaterialIn...</td>\n",
       "    </tr>\n",
       "    <tr>\n",
       "      <th>...</th>\n",
       "      <td>...</td>\n",
       "      <td>...</td>\n",
       "    </tr>\n",
       "    <tr>\n",
       "      <th>33400</th>\n",
       "      <td>SMPS</td>\n",
       "      <td>https://api.astnoc.com/TelecomImage/MaterialIn...</td>\n",
       "    </tr>\n",
       "    <tr>\n",
       "      <th>33401</th>\n",
       "      <td>SMPS</td>\n",
       "      <td>https://api.astnoc.com/TelecomImage/MaterialIn...</td>\n",
       "    </tr>\n",
       "    <tr>\n",
       "      <th>33402</th>\n",
       "      <td>SMPS</td>\n",
       "      <td>https://api.astnoc.com/TelecomImage/MaterialIn...</td>\n",
       "    </tr>\n",
       "    <tr>\n",
       "      <th>33403</th>\n",
       "      <td>SMPS</td>\n",
       "      <td>https://api.astnoc.com/TelecomImage/MaterialIn...</td>\n",
       "    </tr>\n",
       "    <tr>\n",
       "      <th>33404</th>\n",
       "      <td>SMPS</td>\n",
       "      <td>https://api.astnoc.com/TelecomImage/MaterialIn...</td>\n",
       "    </tr>\n",
       "  </tbody>\n",
       "</table>\n",
       "<p>33405 rows × 2 columns</p>\n",
       "</div>"
      ],
      "text/plain": [
       "      ItemName                                             Images\n",
       "0          AMF  https://api.astnoc.com/TelecomImage/MaterialIn...\n",
       "1          AMF  https://api.astnoc.com/TelecomImage/MaterialIn...\n",
       "2          AMF  https://api.astnoc.com/TelecomImage/MaterialIn...\n",
       "3          AMF  https://api.astnoc.com/TelecomImage/MaterialIn...\n",
       "4          AMF  https://api.astnoc.com/TelecomImage/MaterialIn...\n",
       "...        ...                                                ...\n",
       "33400     SMPS  https://api.astnoc.com/TelecomImage/MaterialIn...\n",
       "33401     SMPS  https://api.astnoc.com/TelecomImage/MaterialIn...\n",
       "33402     SMPS  https://api.astnoc.com/TelecomImage/MaterialIn...\n",
       "33403     SMPS  https://api.astnoc.com/TelecomImage/MaterialIn...\n",
       "33404     SMPS  https://api.astnoc.com/TelecomImage/MaterialIn...\n",
       "\n",
       "[33405 rows x 2 columns]"
      ]
     },
     "execution_count": 46,
     "metadata": {},
     "output_type": "execute_result"
    }
   ],
   "source": [
    "df[['ItemName','Images']]"
   ]
  },
  {
   "cell_type": "code",
   "execution_count": 70,
   "id": "da3d6f33",
   "metadata": {},
   "outputs": [
    {
     "data": {
      "text/plain": [
       "BB      30101\n",
       "RM       1092\n",
       "SLR       556\n",
       "DGB       513\n",
       "ONM       406\n",
       "SMPS      200\n",
       "AMF       178\n",
       "MTIB      138\n",
       "PCU        75\n",
       "DG         72\n",
       "CP         70\n",
       "HPSC        3\n",
       "INV         1\n",
       "Name: ItemName, dtype: int64"
      ]
     },
     "execution_count": 70,
     "metadata": {},
     "output_type": "execute_result"
    }
   ],
   "source": [
    "df[\"ItemName\"].value_counts()"
   ]
  },
  {
   "cell_type": "code",
   "execution_count": 79,
   "id": "648fee24",
   "metadata": {},
   "outputs": [],
   "source": [
    "BB = df[df['ItemName']=='BB']['Images'].to_list()\n",
    "RM = df[df['ItemName']=='RM']['Images'].to_list()\n",
    "SLR = df[df['ItemName']=='SLR']['Images'].to_list()\n",
    "DGB = df[df['ItemName']=='DGB']['Images'].to_list()\n",
    "ONM = df[df['ItemName']=='ONM']['Images'].to_list()\n",
    "SMPS = df[df['ItemName']=='SMPS']['Images'].to_list()\n",
    "AMF = df[df['ItemName']=='AMF']['Images'].to_list()\n",
    "MTIB = df[df['ItemName']=='MTIB']['Images'].to_list()\n",
    "PCU = df[df['ItemName']=='PCU']['Images'].to_list()\n",
    "DG = df[df['ItemName']=='DG']['Images'].to_list()\n",
    "CP = df[df['ItemName']=='CP']['Images'].to_list()\n",
    "HPSC = df[df['ItemName']=='HPSC']['Images'].to_list()\n",
    "INV = df[df['ItemName']=='INV']['Images'].to_list()"
   ]
  },
  {
   "cell_type": "code",
   "execution_count": 98,
   "id": "522de809",
   "metadata": {},
   "outputs": [],
   "source": [
    "for i in INV:\n",
    "    img_name = i.split('/')[-1]\n",
    "    urllib.request.urlretrieve(i,\"E:/Project/MaterialInstallationImages/INV/\"+img_name)"
   ]
  },
  {
   "cell_type": "code",
   "execution_count": 96,
   "id": "8c2b1f5e",
   "metadata": {},
   "outputs": [
    {
     "data": {
      "text/plain": [
       "'87b68a8c-4956-456a-b839-e7a0513f4e4bNewBarCode_1_INV_17719_1655058600000.png'"
      ]
     },
     "execution_count": 96,
     "metadata": {},
     "output_type": "execute_result"
    }
   ],
   "source": [
    "INV[0].split('/')[-1]"
   ]
  },
  {
   "cell_type": "code",
   "execution_count": 99,
   "id": "c0a78cec",
   "metadata": {},
   "outputs": [],
   "source": [
    "for i in HPSC:\n",
    "    img_name = i.split('/')[-1]\n",
    "    urllib.request.urlretrieve(i,\"E:/Project/MaterialInstallationImages/HPSC/\"+img_name)"
   ]
  },
  {
   "cell_type": "code",
   "execution_count": 100,
   "id": "8adff53d",
   "metadata": {},
   "outputs": [],
   "source": [
    "for i in CP:\n",
    "    img_name = i.split('/')[-1]\n",
    "    urllib.request.urlretrieve(i,\"E:/Project/MaterialInstallationImages/CP/\"+img_name)"
   ]
  },
  {
   "cell_type": "code",
   "execution_count": 101,
   "id": "f3f9e7ca",
   "metadata": {},
   "outputs": [],
   "source": [
    "for i in DG:\n",
    "    img_name = i.split('/')[-1]\n",
    "    urllib.request.urlretrieve(i,\"E:/Project/MaterialInstallationImages/DG/\"+img_name)"
   ]
  },
  {
   "cell_type": "code",
   "execution_count": 102,
   "id": "58ae43c3",
   "metadata": {},
   "outputs": [],
   "source": [
    "for i in PCU:\n",
    "    img_name = i.split('/')[-1]\n",
    "    urllib.request.urlretrieve(i,\"E:/Project/MaterialInstallationImages/PCU/\"+img_name)"
   ]
  },
  {
   "cell_type": "code",
   "execution_count": 103,
   "id": "31bf1520",
   "metadata": {},
   "outputs": [],
   "source": [
    "for i in MTIB:\n",
    "    img_name = i.split('/')[-1]\n",
    "    urllib.request.urlretrieve(i,\"E:/Project/MaterialInstallationImages/MTIB/\"+img_name)"
   ]
  },
  {
   "cell_type": "code",
   "execution_count": 104,
   "id": "b902ecf5",
   "metadata": {},
   "outputs": [],
   "source": [
    "for i in AMF:\n",
    "    img_name = i.split('/')[-1]\n",
    "    urllib.request.urlretrieve(i,\"E:/Project/MaterialInstallationImages/AMF/\"+img_name)"
   ]
  },
  {
   "cell_type": "code",
   "execution_count": 105,
   "id": "0e26f813",
   "metadata": {},
   "outputs": [],
   "source": [
    "for i in SMPS:\n",
    "    img_name = i.split('/')[-1]\n",
    "    urllib.request.urlretrieve(i,\"E:/Project/MaterialInstallationImages/SMPS/\"+img_name)"
   ]
  },
  {
   "cell_type": "code",
   "execution_count": 106,
   "id": "7b6dcc0a",
   "metadata": {},
   "outputs": [],
   "source": [
    "for i in ONM:\n",
    "    img_name = i.split('/')[-1]\n",
    "    urllib.request.urlretrieve(i,\"E:/Project/MaterialInstallationImages/ONM/\"+img_name)"
   ]
  },
  {
   "cell_type": "code",
   "execution_count": 107,
   "id": "b78ac59b",
   "metadata": {},
   "outputs": [],
   "source": [
    "for i in DGB:\n",
    "    img_name = i.split('/')[-1]\n",
    "    urllib.request.urlretrieve(i,\"E:/Project/MaterialInstallationImages/DGB/\"+img_name)"
   ]
  },
  {
   "cell_type": "code",
   "execution_count": null,
   "id": "24285d72",
   "metadata": {},
   "outputs": [],
   "source": [
    "for i in SLR:\n",
    "    img_name = i.split('/')[-1]\n",
    "    urllib.request.urlretrieve(i,\"E:/Project/MaterialInstallationImages/SLR/\"+img_name)"
   ]
  },
  {
   "cell_type": "code",
   "execution_count": 114,
   "id": "239ad051",
   "metadata": {},
   "outputs": [],
   "source": [
    "for i in RM:\n",
    "    img_name = i.split('/')[-1]\n",
    "    urllib.request.urlretrieve(i,\"E:/Project/MaterialInstallationImages/RM/\"+img_name)"
   ]
  },
  {
   "cell_type": "code",
   "execution_count": 15,
   "id": "19133f4b",
   "metadata": {},
   "outputs": [
    {
     "data": {
      "text/html": [
       "<div>\n",
       "<style scoped>\n",
       "    .dataframe tbody tr th:only-of-type {\n",
       "        vertical-align: middle;\n",
       "    }\n",
       "\n",
       "    .dataframe tbody tr th {\n",
       "        vertical-align: top;\n",
       "    }\n",
       "\n",
       "    .dataframe thead th {\n",
       "        text-align: right;\n",
       "    }\n",
       "</style>\n",
       "<table border=\"1\" class=\"dataframe\">\n",
       "  <thead>\n",
       "    <tr style=\"text-align: right;\">\n",
       "      <th></th>\n",
       "      <th>ItemName</th>\n",
       "      <th>DispatchNo</th>\n",
       "      <th>MakeName</th>\n",
       "      <th>CapacityName</th>\n",
       "      <th>Images</th>\n",
       "      <th>BarCode</th>\n",
       "      <th>Level1</th>\n",
       "      <th>Level2</th>\n",
       "      <th>Level3</th>\n",
       "    </tr>\n",
       "  </thead>\n",
       "  <tbody>\n",
       "    <tr>\n",
       "      <th>0</th>\n",
       "      <td>AMF</td>\n",
       "      <td>65838</td>\n",
       "      <td>Ojus</td>\n",
       "      <td>15 KVA</td>\n",
       "      <td>https://api.astnoc.com/TelecomImage/MaterialIn...</td>\n",
       "      <td>1222304</td>\n",
       "      <td>pending</td>\n",
       "      <td>pending</td>\n",
       "      <td>pending</td>\n",
       "    </tr>\n",
       "    <tr>\n",
       "      <th>1</th>\n",
       "      <td>AMF</td>\n",
       "      <td>65599</td>\n",
       "      <td>Kusum</td>\n",
       "      <td>25 KVA</td>\n",
       "      <td>https://api.astnoc.com/TelecomImage/MaterialIn...</td>\n",
       "      <td>20fbb782</td>\n",
       "      <td>pending</td>\n",
       "      <td>Aprove</td>\n",
       "      <td>pending</td>\n",
       "    </tr>\n",
       "    <tr>\n",
       "      <th>2</th>\n",
       "      <td>AMF</td>\n",
       "      <td>65445</td>\n",
       "      <td>Ojus</td>\n",
       "      <td>15 KVA</td>\n",
       "      <td>https://api.astnoc.com/TelecomImage/MaterialIn...</td>\n",
       "      <td>27hbb285v2</td>\n",
       "      <td>Aprove</td>\n",
       "      <td>pending</td>\n",
       "      <td>pending</td>\n",
       "    </tr>\n",
       "    <tr>\n",
       "      <th>3</th>\n",
       "      <td>AMF</td>\n",
       "      <td>65316</td>\n",
       "      <td>Kusum</td>\n",
       "      <td>25 KVA</td>\n",
       "      <td>https://api.astnoc.com/TelecomImage/MaterialIn...</td>\n",
       "      <td>24fbb779</td>\n",
       "      <td>pending</td>\n",
       "      <td>pending</td>\n",
       "      <td>Aprove</td>\n",
       "    </tr>\n",
       "    <tr>\n",
       "      <th>4</th>\n",
       "      <td>AMF</td>\n",
       "      <td>64225</td>\n",
       "      <td>Ojus</td>\n",
       "      <td>15 KVA</td>\n",
       "      <td>https://api.astnoc.com/TelecomImage/MaterialIn...</td>\n",
       "      <td>27hbb292v2</td>\n",
       "      <td>Aprove</td>\n",
       "      <td>Aprove</td>\n",
       "      <td>pending</td>\n",
       "    </tr>\n",
       "    <tr>\n",
       "      <th>...</th>\n",
       "      <td>...</td>\n",
       "      <td>...</td>\n",
       "      <td>...</td>\n",
       "      <td>...</td>\n",
       "      <td>...</td>\n",
       "      <td>...</td>\n",
       "      <td>...</td>\n",
       "      <td>...</td>\n",
       "      <td>...</td>\n",
       "    </tr>\n",
       "    <tr>\n",
       "      <th>33400</th>\n",
       "      <td>SMPS</td>\n",
       "      <td>51593</td>\n",
       "      <td>Delta</td>\n",
       "      <td>24KW*3RM</td>\n",
       "      <td>https://api.astnoc.com/TelecomImage/MaterialIn...</td>\n",
       "      <td>23R215002I04810044</td>\n",
       "      <td>Aprove</td>\n",
       "      <td>Aprove</td>\n",
       "      <td>Aprove</td>\n",
       "    </tr>\n",
       "    <tr>\n",
       "      <th>33401</th>\n",
       "      <td>SMPS</td>\n",
       "      <td>52497</td>\n",
       "      <td>Delta</td>\n",
       "      <td>24KW*3RM</td>\n",
       "      <td>https://api.astnoc.com/TelecomImage/MaterialIn...</td>\n",
       "      <td>23R215202Q04810059</td>\n",
       "      <td>Aprove</td>\n",
       "      <td>pending</td>\n",
       "      <td>Aprove</td>\n",
       "    </tr>\n",
       "    <tr>\n",
       "      <th>33402</th>\n",
       "      <td>SMPS</td>\n",
       "      <td>52495</td>\n",
       "      <td>Delta</td>\n",
       "      <td>24KW*3RM</td>\n",
       "      <td>https://api.astnoc.com/TelecomImage/MaterialIn...</td>\n",
       "      <td>23r215202q04810060</td>\n",
       "      <td>pending</td>\n",
       "      <td>pending</td>\n",
       "      <td>Aprove</td>\n",
       "    </tr>\n",
       "    <tr>\n",
       "      <th>33403</th>\n",
       "      <td>SMPS</td>\n",
       "      <td>48548</td>\n",
       "      <td>Delta</td>\n",
       "      <td>24KW*3RM</td>\n",
       "      <td>https://api.astnoc.com/TelecomImage/MaterialIn...</td>\n",
       "      <td>23r214102104811831</td>\n",
       "      <td>Aprove</td>\n",
       "      <td>pending</td>\n",
       "      <td>pending</td>\n",
       "    </tr>\n",
       "    <tr>\n",
       "      <th>33404</th>\n",
       "      <td>SMPS</td>\n",
       "      <td>45813</td>\n",
       "      <td>Delta</td>\n",
       "      <td>24KW*3RM</td>\n",
       "      <td>https://api.astnoc.com/TelecomImage/MaterialIn...</td>\n",
       "      <td>23r1851c1504811277</td>\n",
       "      <td>pending</td>\n",
       "      <td>Aprove</td>\n",
       "      <td>Aprove</td>\n",
       "    </tr>\n",
       "  </tbody>\n",
       "</table>\n",
       "<p>33405 rows × 9 columns</p>\n",
       "</div>"
      ],
      "text/plain": [
       "      ItemName  DispatchNo MakeName CapacityName  \\\n",
       "0          AMF       65838     Ojus       15 KVA   \n",
       "1          AMF       65599    Kusum       25 KVA   \n",
       "2          AMF       65445     Ojus       15 KVA   \n",
       "3          AMF       65316    Kusum       25 KVA   \n",
       "4          AMF       64225     Ojus       15 KVA   \n",
       "...        ...         ...      ...          ...   \n",
       "33400     SMPS       51593    Delta     24KW*3RM   \n",
       "33401     SMPS       52497    Delta     24KW*3RM   \n",
       "33402     SMPS       52495    Delta     24KW*3RM   \n",
       "33403     SMPS       48548    Delta     24KW*3RM   \n",
       "33404     SMPS       45813    Delta     24KW*3RM   \n",
       "\n",
       "                                                  Images             BarCode  \\\n",
       "0      https://api.astnoc.com/TelecomImage/MaterialIn...             1222304   \n",
       "1      https://api.astnoc.com/TelecomImage/MaterialIn...            20fbb782   \n",
       "2      https://api.astnoc.com/TelecomImage/MaterialIn...          27hbb285v2   \n",
       "3      https://api.astnoc.com/TelecomImage/MaterialIn...            24fbb779   \n",
       "4      https://api.astnoc.com/TelecomImage/MaterialIn...          27hbb292v2   \n",
       "...                                                  ...                 ...   \n",
       "33400  https://api.astnoc.com/TelecomImage/MaterialIn...  23R215002I04810044   \n",
       "33401  https://api.astnoc.com/TelecomImage/MaterialIn...  23R215202Q04810059   \n",
       "33402  https://api.astnoc.com/TelecomImage/MaterialIn...  23r215202q04810060   \n",
       "33403  https://api.astnoc.com/TelecomImage/MaterialIn...  23r214102104811831   \n",
       "33404  https://api.astnoc.com/TelecomImage/MaterialIn...  23r1851c1504811277   \n",
       "\n",
       "        Level1   Level2   Level3  \n",
       "0      pending  pending  pending  \n",
       "1      pending   Aprove  pending  \n",
       "2       Aprove  pending  pending  \n",
       "3      pending  pending   Aprove  \n",
       "4       Aprove   Aprove  pending  \n",
       "...        ...      ...      ...  \n",
       "33400   Aprove   Aprove   Aprove  \n",
       "33401   Aprove  pending   Aprove  \n",
       "33402  pending  pending   Aprove  \n",
       "33403   Aprove  pending  pending  \n",
       "33404  pending   Aprove   Aprove  \n",
       "\n",
       "[33405 rows x 9 columns]"
      ]
     },
     "execution_count": 15,
     "metadata": {},
     "output_type": "execute_result"
    }
   ],
   "source": [
    "df"
   ]
  },
  {
   "cell_type": "code",
   "execution_count": null,
   "id": "a54d5dab",
   "metadata": {},
   "outputs": [],
   "source": []
  }
 ],
 "metadata": {
  "kernelspec": {
   "display_name": "Python 3 (ipykernel)",
   "language": "python",
   "name": "python3"
  },
  "language_info": {
   "codemirror_mode": {
    "name": "ipython",
    "version": 3
   },
   "file_extension": ".py",
   "mimetype": "text/x-python",
   "name": "python",
   "nbconvert_exporter": "python",
   "pygments_lexer": "ipython3",
   "version": "3.9.13"
  }
 },
 "nbformat": 4,
 "nbformat_minor": 5
}
